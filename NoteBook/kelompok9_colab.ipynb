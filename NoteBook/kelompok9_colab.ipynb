{
 "cells": [
  {
   "cell_type": "markdown",
   "metadata": {},
   "source": [
    "# \ud83c\udf7d\ufe0f YOLO Food Detector + Resep Makanan\n",
    "\n",
    "Notebook ini memungkinkan Anda mengunggah gambar makanan, mendeteksi jenis makanan menggunakan model YOLO, dan menampilkan resep terkait dari TheMealDB API."
   ]
  },
  {
   "cell_type": "code",
   "execution_count": null,
   "metadata": {},
   "outputs": [],
   "source": [
    "# Install dependencies (jalankan sekali jika belum terinstall)\n",
    "!pip install ultralytics streamlit requests pillow ipywidgets"
   ]
  },
  {
   "cell_type": "code",
   "execution_count": null,
   "metadata": {},
   "outputs": [],
   "source": [
    "# Import library yang diperlukan\n",
    "from ultralytics import YOLO\n",
    "import requests\n",
    "from PIL import Image\n",
    "from io import BytesIO\n",
    "import ipywidgets as widgets\n",
    "from IPython.display import display, Markdown, HTML\n",
    "import tempfile\n",
    "import os"
   ]
  },
  {
   "cell_type": "code",
   "execution_count": null,
   "metadata": {},
   "outputs": [],
   "source": [
    "# Label mapping untuk pencarian resep\n",
    "label_to_search_query = {\n",
    "    '-': '',\n",
    "    'beef carpaccio': 'carpaccio',\n",
    "    'beet salad': 'beet',\n",
    "    'breakfast burrito': 'burrito',\n",
    "    'caesar salad': 'caesar salad',\n",
    "    'caprese salad': 'caprese',\n",
    "    'chicken quesadilla': 'quesadilla',\n",
    "    'chicken wings': 'chicken',\n",
    "    'clam chowder': 'chowder',\n",
    "    'club sandwich': 'sandwich',\n",
    "    'deviled eggs': 'egg',\n",
    "    'dumplings': 'dumplings',\n",
    "    'eggplant': 'eggplant',\n",
    "    'falafel': 'falafel',\n",
    "    'french fries': 'fries',\n",
    "    'french toast': 'toast',\n",
    "    'fried rice': 'fried rice',\n",
    "    'gnocchi': 'gnocchi',\n",
    "    'greek salad': 'salad',\n",
    "    'guacamole': 'guacamole',\n",
    "    'gyoza': 'dumplings',\n",
    "    'hamburger': 'burger',\n",
    "    'hot dog': 'hotdog',\n",
    "    'hummus': 'hummus',\n",
    "    'ice cream': 'ice cream',\n",
    "    'lentil soup': 'lentil soup',\n",
    "    'macaroni and cheese': 'mac and cheese',\n",
    "    'molokhia': 'soup',\n",
    "    'mussels': 'mussels',\n",
    "    'nachos': 'nachos',\n",
    "    'omelette': 'omelette',\n",
    "    'onion rings': 'onion',\n",
    "    'pancakes': 'pancakes',\n",
    "    'samosa': 'samosa',\n",
    "    'sashimi': 'sashimi',\n",
    "    'spring rolls': 'rolls',\n",
    "    'steak': 'steak',\n",
    "    'stuffed grape leaves': 'stuffed',\n",
    "    'sushi': 'sushi',\n",
    "    'sweet potato': 'sweet potato',\n",
    "    'tacos': 'tacos',\n",
    "    'waffles': 'waffles'\n",
    "}"
   ]
  },
  {
   "cell_type": "code",
   "execution_count": null,
   "metadata": {},
   "outputs": [],
   "source": [
    "# Fungsi untuk YOLO detection\n",
    "def detect_food_objects(image_path):\n",
    "    model = YOLO('runs/myfood2/weights/best.pt')  # Ganti dengan path model Anda\n",
    "    results = model(image_path)\n",
    "    detections = []\n",
    "    for r in results:\n",
    "        for box in r.boxes:\n",
    "            cls = int(box.cls[0])\n",
    "            label = model.names[cls]\n",
    "            detections.append(label)\n",
    "    return list(set(detections))"
   ]
  },
  {
   "cell_type": "code",
   "execution_count": null,
   "metadata": {},
   "outputs": [],
   "source": [
    "# Fungsi untuk mengambil resep dari TheMealDB\n",
    "def search_meal_by_name(query):\n",
    "    url = f'https://www.themealdb.com/api/json/v1/1/search.php?s={query}'\n",
    "    response = requests.get(url)\n",
    "    if response.status_code == 200:\n",
    "        return response.json().get('meals')\n",
    "    return None\n",
    "\n",
    "def get_ingredients(meal):\n",
    "    ingredients = []\n",
    "    for i in range(1, 21):\n",
    "        ing = meal.get(f'strIngredient{i}')\n",
    "        meas = meal.get(f'strMeasure{i}')\n",
    "        if ing and ing.strip():\n",
    "            ingredients.append(f'\ud83d\udd38 {ing.strip()} - {meas.strip() if meas else \"\"}')\n",
    "    return ingredients"
   ]
  },
  {
   "cell_type": "code",
   "execution_count": null,
   "metadata": {},
   "outputs": [],
   "source": [
    "# Upload gambar di Colab\n",
    "from google.colab import files\n",
    "uploaded = files.upload()\n",
    "image_path = list(uploaded.keys())[0]"
   ]
  },
  {
   "cell_type": "code",
   "execution_count": null,
   "metadata": {},
   "outputs": [],
   "source": [
    "# Proses gambar untuk Colab\n",
    "image = Image.open(image_path)\n",
    "display(Markdown('### \ud83d\udcf7 Gambar yang Diunggah'))\n",
    "display(image)\n",
    "with tempfile.NamedTemporaryFile(delete=False, suffix='.jpg') as temp_file:\n",
    "    image.save(temp_file, format='JPEG')\n",
    "    temp_image_path = temp_file.name\n",
    "labels = detect_food_objects(temp_image_path)\n",
    "display(Markdown('### \ud83c\udfaf Hasil Deteksi:'))\n",
    "for label in labels:\n",
    "    display(Markdown(f'- **{label}**'))\n",
    "    query = label_to_search_query.get(label.lower(), label)\n",
    "    display(Markdown(f\"**Resep berkaitan dengan: '{label}'**\"))\n",
    "    meals = search_meal_by_name(query)\n",
    "    if meals:\n",
    "        for meal in meals:\n",
    "            display(Markdown('---'))\n",
    "            display(Markdown(f'### {meal[\"strMeal\"]}'))\n",
    "            img_response = requests.get(meal['strMealThumb'])\n",
    "            img = Image.open(BytesIO(img_response.content))\n",
    "            display(img)\n",
    "            display(Markdown(f'**Kategori:** {meal[\"strCategory\"]}  |  **Asal:** {meal[\"strArea\"]}'))\n",
    "            display(Markdown('**\ud83d\udccb Bahan-bahan:**'))\n",
    "            for item in get_ingredients(meal):\n",
    "                display(Markdown(item))\n",
    "            display(Markdown('**\ud83d\udcd6 Instruksi:**'))\n",
    "            display(Markdown(meal['strInstructions']))\n",
    "            if meal['strYoutube']:\n",
    "                display(HTML(f'<a href=\"{meal[\"strYoutube\"]}\" target=\"_blank\">\u25b6\ufe0f Tonton Video</a>'))\n",
    "    else:\n",
    "        display(Markdown(f'\u2757 Resep untuk \"{label}\" tidak ditemukan.'))\n",
    "os.unlink(temp_image_path)"
   ]
  },
  {
   "cell_type": "markdown",
   "metadata": {},
   "source": [
    "## Petunjuk Penggunaan\n",
    "1. Jalankan semua sel di atas secara berurutan.\n",
    "2. Gunakan widget unggah untuk memilih gambar makanan (format .jpg, .jpeg, .png, atau .webp).\n",
    "3. Setelah mengunggah, notebook akan:\n",
    "   - Menampilkan gambar yang diunggah.\n",
    "   - Mendeteksi makanan menggunakan model YOLO.\n",
    "   - Menampilkan resep terkait dari TheMealDB, termasuk bahan, instruksi, dan tautan video (jika ada).\n",
    "\n",
    "**Catatan:** Pastikan model YOLO (`runs/myfood2/weights/best.pt`) tersedia di direktori yang benar."
   ]
  }
 ],
 "metadata": {
  "kernelspec": {
   "display_name": "Python 3",
   "language": "python",
   "name": "python3"
  },
  "language_info": {
   "name": "python",
   "version": "3.8.0"
  }
 },
 "nbformat": 4,
 "nbformat_minor": 4
}